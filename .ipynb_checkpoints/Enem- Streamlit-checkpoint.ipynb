{
 "cells": [
  {
   "cell_type": "code",
   "execution_count": 20,
   "id": "a115e8ad",
   "metadata": {},
   "outputs": [],
   "source": [
    "import warnings \n",
    "warnings.filterwarnings('ignore')\n",
    "\n",
    "import pandas as pd \n",
    "pd.set_option('display.max_columns', None)\n",
    "\n",
    "import numpy as np\n",
    "\n",
    "import seaborn as sns\n",
    "sns.set_style(\"darkgrid\")\n",
    "import matplotlib.pyplot as plt\n",
    "import plotly.express as px\n",
    "import streamlit as st"
   ]
  },
  {
   "cell_type": "markdown",
   "id": "703484bd",
   "metadata": {},
   "source": [
    "## 1. Carregar dados"
   ]
  },
  {
   "cell_type": "markdown",
   "id": "eab71eaa",
   "metadata": {},
   "source": [
    "Carregar arquivo com os microdados"
   ]
  },
  {
   "cell_type": "code",
   "execution_count": 4,
   "id": "d0615aeb",
   "metadata": {},
   "outputs": [
    {
     "data": {
      "text/plain": [
       "(3389832, 40)"
      ]
     },
     "execution_count": 4,
     "metadata": {},
     "output_type": "execute_result"
    }
   ],
   "source": [
    "df = pd.read_parquet('MICRODADOS_ENEM_2021.parquet')\n",
    "df.shape"
   ]
  },
  {
   "cell_type": "code",
   "execution_count": 5,
   "id": "42874753",
   "metadata": {},
   "outputs": [
    {
     "name": "stdout",
     "output_type": "stream",
     "text": [
      "Index(['NU_ANO', 'TP_FAIXA_ETARIA', 'TP_SEXO', 'TP_ESTADO_CIVIL',\n",
      "       'TP_COR_RACA', 'TP_NACIONALIDADE', 'TP_ST_CONCLUSAO', 'TP_ANO_CONCLUIU',\n",
      "       'TP_ESCOLA', 'TP_ENSINO', 'IN_TREINEIRO', 'NO_MUNICIPIO_ESC',\n",
      "       'CO_UF_ESC', 'SG_UF_ESC', 'TP_DEPENDENCIA_ADM_ESC',\n",
      "       'TP_LOCALIZACAO_ESC', 'TP_SIT_FUNC_ESC', 'CO_MUNICIPIO_PROVA',\n",
      "       'NO_MUNICIPIO_PROVA', 'CO_UF_PROVA', 'SG_UF_PROVA', 'TP_PRESENCA_CN',\n",
      "       'TP_PRESENCA_CH', 'TP_PRESENCA_LC', 'TP_PRESENCA_MT', 'CO_PROVA_CN',\n",
      "       'CO_PROVA_CH', 'CO_PROVA_LC', 'CO_PROVA_MT', 'NU_NOTA_CN', 'NU_NOTA_CH',\n",
      "       'NU_NOTA_LC', 'NU_NOTA_MT', 'TP_STATUS_REDACAO', 'NU_NOTA_COMP1',\n",
      "       'NU_NOTA_COMP2', 'NU_NOTA_COMP3', 'NU_NOTA_COMP4', 'NU_NOTA_COMP5',\n",
      "       'NU_NOTA_REDACAO'],\n",
      "      dtype='object')\n"
     ]
    }
   ],
   "source": [
    "print(df.columns)"
   ]
  },
  {
   "cell_type": "markdown",
   "id": "4975f0f9",
   "metadata": {},
   "source": [
    "tratar a coluna raça"
   ]
  },
  {
   "cell_type": "code",
   "execution_count": 6,
   "id": "e0ac3dbe",
   "metadata": {},
   "outputs": [],
   "source": [
    "r = {0: \"Não Declarado\", \n",
    "                 1: \"Branca\", \n",
    "                 2: \"Preta\", \n",
    "                 3: \"Parda\", \n",
    "                 4: \"Amarela\", \n",
    "                 5: \"Indígena\", \n",
    "                 6: \"Sem Informação\"}\n",
    "df['TP_COR_RACA'] = df['TP_COR_RACA'].replace(r)"
   ]
  },
  {
   "cell_type": "markdown",
   "id": "2e56a4ee",
   "metadata": {},
   "source": [
    "\n",
    "## 2. Análises"
   ]
  },
  {
   "cell_type": "code",
   "execution_count": 7,
   "id": "90fc592c",
   "metadata": {},
   "outputs": [
    {
     "data": {
      "text/html": [
       "<div>\n",
       "<style scoped>\n",
       "    .dataframe tbody tr th:only-of-type {\n",
       "        vertical-align: middle;\n",
       "    }\n",
       "\n",
       "    .dataframe tbody tr th {\n",
       "        vertical-align: top;\n",
       "    }\n",
       "\n",
       "    .dataframe thead th {\n",
       "        text-align: right;\n",
       "    }\n",
       "</style>\n",
       "<table border=\"1\" class=\"dataframe\">\n",
       "  <thead>\n",
       "    <tr style=\"text-align: right;\">\n",
       "      <th>col_0</th>\n",
       "      <th>quant</th>\n",
       "    </tr>\n",
       "    <tr>\n",
       "      <th>NU_NOTA_REDACAO</th>\n",
       "      <th></th>\n",
       "    </tr>\n",
       "  </thead>\n",
       "  <tbody>\n",
       "    <tr>\n",
       "      <th>(-1, 100]</th>\n",
       "      <td>0.035703</td>\n",
       "    </tr>\n",
       "    <tr>\n",
       "      <th>(100, 200]</th>\n",
       "      <td>0.000459</td>\n",
       "    </tr>\n",
       "    <tr>\n",
       "      <th>(200, 300]</th>\n",
       "      <td>0.007205</td>\n",
       "    </tr>\n",
       "    <tr>\n",
       "      <th>(300, 500]</th>\n",
       "      <td>0.182049</td>\n",
       "    </tr>\n",
       "    <tr>\n",
       "      <th>(500, 600]</th>\n",
       "      <td>0.284650</td>\n",
       "    </tr>\n",
       "    <tr>\n",
       "      <th>(600, 700]</th>\n",
       "      <td>0.199495</td>\n",
       "    </tr>\n",
       "    <tr>\n",
       "      <th>(700, 800]</th>\n",
       "      <td>0.129063</td>\n",
       "    </tr>\n",
       "    <tr>\n",
       "      <th>(800, 900]</th>\n",
       "      <td>0.114623</td>\n",
       "    </tr>\n",
       "    <tr>\n",
       "      <th>(900, 1000]</th>\n",
       "      <td>0.046754</td>\n",
       "    </tr>\n",
       "  </tbody>\n",
       "</table>\n",
       "</div>"
      ],
      "text/plain": [
       "col_0               quant\n",
       "NU_NOTA_REDACAO          \n",
       "(-1, 100]        0.035703\n",
       "(100, 200]       0.000459\n",
       "(200, 300]       0.007205\n",
       "(300, 500]       0.182049\n",
       "(500, 600]       0.284650\n",
       "(600, 700]       0.199495\n",
       "(700, 800]       0.129063\n",
       "(800, 900]       0.114623\n",
       "(900, 1000]      0.046754"
      ]
     },
     "execution_count": 7,
     "metadata": {},
     "output_type": "execute_result"
    }
   ],
   "source": [
    "pd.crosstab(index = pd.cut(df['NU_NOTA_REDACAO'], bins = [-1, 100, 200, 300, 500, 600, 700, 800, 900, 1000]), \n",
    "            columns = 'quant', normalize = True)"
   ]
  },
  {
   "cell_type": "code",
   "execution_count": 15,
   "id": "3a5a4ce8",
   "metadata": {},
   "outputs": [],
   "source": [
    "# subjects = {'NU_NOTA_REDACAO': 'Redação',\n",
    "#             'NU_NOTA_MT': 'Matemática',\n",
    "#             'NU_NOTA_LC': 'Linguagens'}\n",
    "\n",
    "# fig, ax = plt.subplots()\n",
    "# for col, label in subjects.items():\n",
    "#     sns.kdeplot(df[col], label=label, ax=ax)\n",
    "\n",
    "# ax.set(title='Distribuição das Notas', xlabel='Nota')\n",
    "# ax.legend()"
   ]
  },
  {
   "cell_type": "code",
   "execution_count": 17,
   "id": "9677cc4b",
   "metadata": {},
   "outputs": [],
   "source": [
    "# notas = ['NU_NOTA_CN', 'NU_NOTA_CH', 'NU_NOTA_LC', 'NU_NOTA_MT', 'NU_NOTA_REDACAO']\n",
    "\n",
    "# for nota in notas: \n",
    "#     p = sns.boxplot(data = df, x = 'TP_COR_RACA', y = nota)\n",
    "#     plt.xticks(rotation = 45)\n",
    "#     plt.show()"
   ]
  },
  {
   "cell_type": "code",
   "execution_count": 18,
   "id": "62bbc51a",
   "metadata": {},
   "outputs": [],
   "source": [
    "# notas = ['NU_NOTA_CN', 'NU_NOTA_CH', 'NU_NOTA_LC', 'NU_NOTA_MT', 'NU_NOTA_REDACAO']\n",
    "\n",
    "# for nota in notas: \n",
    "#     p = sns.boxplot(data = df, x = 'TP_SEXO', y = nota)\n",
    "#     plt.show()"
   ]
  },
  {
   "cell_type": "markdown",
   "id": "ff5dc784-6542-4d5e-be49-dd8e9a3abc27",
   "metadata": {},
   "source": [
    "## 3. Criar dash"
   ]
  },
  {
   "cell_type": "code",
   "execution_count": 22,
   "id": "06dddce3-212b-44e0-9b3f-3698474b4e3d",
   "metadata": {},
   "outputs": [
    {
     "name": "stderr",
     "output_type": "stream",
     "text": [
      "2025-04-18 15:55:12.322 Thread 'MainThread': missing ScriptRunContext! This warning can be ignored when running in bare mode.\n",
      "2025-04-18 15:55:12.323 Thread 'MainThread': missing ScriptRunContext! This warning can be ignored when running in bare mode.\n",
      "2025-04-18 15:55:12.325 No runtime found, using MemoryCacheStorageManager\n",
      "2025-04-18 15:55:12.329 No runtime found, using MemoryCacheStorageManager\n",
      "2025-04-18 15:55:12.331 Thread 'MainThread': missing ScriptRunContext! This warning can be ignored when running in bare mode.\n",
      "2025-04-18 15:55:12.331 Thread 'MainThread': missing ScriptRunContext! This warning can be ignored when running in bare mode.\n",
      "2025-04-18 15:55:12.333 Thread 'MainThread': missing ScriptRunContext! This warning can be ignored when running in bare mode.\n",
      "2025-04-18 15:55:12.361 Thread 'MainThread': missing ScriptRunContext! This warning can be ignored when running in bare mode.\n",
      "2025-04-18 15:55:12.362 Thread 'MainThread': missing ScriptRunContext! This warning can be ignored when running in bare mode.\n",
      "2025-04-18 15:55:12.362 Thread 'MainThread': missing ScriptRunContext! This warning can be ignored when running in bare mode.\n",
      "2025-04-18 15:55:12.363 Thread 'MainThread': missing ScriptRunContext! This warning can be ignored when running in bare mode.\n",
      "2025-04-18 15:55:12.364 Thread 'MainThread': missing ScriptRunContext! This warning can be ignored when running in bare mode.\n",
      "2025-04-18 15:55:12.365 Thread 'MainThread': missing ScriptRunContext! This warning can be ignored when running in bare mode.\n",
      "2025-04-18 15:55:12.367 Thread 'MainThread': missing ScriptRunContext! This warning can be ignored when running in bare mode.\n",
      "2025-04-18 15:55:12.368 Thread 'MainThread': missing ScriptRunContext! This warning can be ignored when running in bare mode.\n",
      "2025-04-18 15:55:12.369 Thread 'MainThread': missing ScriptRunContext! This warning can be ignored when running in bare mode.\n",
      "2025-04-18 15:55:12.374 Thread 'MainThread': missing ScriptRunContext! This warning can be ignored when running in bare mode.\n",
      "2025-04-18 15:55:12.376 Thread 'MainThread': missing ScriptRunContext! This warning can be ignored when running in bare mode.\n",
      "2025-04-18 15:55:12.378 Thread 'MainThread': missing ScriptRunContext! This warning can be ignored when running in bare mode.\n",
      "2025-04-18 15:55:12.378 Thread 'MainThread': missing ScriptRunContext! This warning can be ignored when running in bare mode.\n",
      "2025-04-18 15:55:12.380 Thread 'MainThread': missing ScriptRunContext! This warning can be ignored when running in bare mode.\n",
      "2025-04-18 15:55:12.386 Thread 'MainThread': missing ScriptRunContext! This warning can be ignored when running in bare mode.\n",
      "2025-04-18 15:55:12.386 Thread 'MainThread': missing ScriptRunContext! This warning can be ignored when running in bare mode.\n",
      "2025-04-18 15:55:12.420 Thread 'MainThread': missing ScriptRunContext! This warning can be ignored when running in bare mode.\n",
      "2025-04-18 15:55:12.433 Thread 'MainThread': missing ScriptRunContext! This warning can be ignored when running in bare mode.\n",
      "2025-04-18 15:55:12.433 Thread 'MainThread': missing ScriptRunContext! This warning can be ignored when running in bare mode.\n",
      "2025-04-18 15:55:12.435 Thread 'MainThread': missing ScriptRunContext! This warning can be ignored when running in bare mode.\n",
      "2025-04-18 15:55:13.071 Thread 'MainThread': missing ScriptRunContext! This warning can be ignored when running in bare mode.\n",
      "2025-04-18 15:55:13.071 Thread 'MainThread': missing ScriptRunContext! This warning can be ignored when running in bare mode.\n",
      "2025-04-18 15:55:13.071 Thread 'MainThread': missing ScriptRunContext! This warning can be ignored when running in bare mode.\n",
      "2025-04-18 15:55:13.071 Thread 'MainThread': missing ScriptRunContext! This warning can be ignored when running in bare mode.\n",
      "2025-04-18 15:55:13.071 Thread 'MainThread': missing ScriptRunContext! This warning can be ignored when running in bare mode.\n",
      "2025-04-18 15:55:13.071 Thread 'MainThread': missing ScriptRunContext! This warning can be ignored when running in bare mode.\n",
      "2025-04-18 15:55:13.205 Thread 'MainThread': missing ScriptRunContext! This warning can be ignored when running in bare mode.\n",
      "2025-04-18 15:55:13.206 Thread 'MainThread': missing ScriptRunContext! This warning can be ignored when running in bare mode.\n",
      "2025-04-18 15:55:13.207 Thread 'MainThread': missing ScriptRunContext! This warning can be ignored when running in bare mode.\n",
      "2025-04-18 15:55:13.209 Thread 'MainThread': missing ScriptRunContext! This warning can be ignored when running in bare mode.\n"
     ]
    },
    {
     "data": {
      "text/plain": [
       "DeltaGenerator()"
      ]
     },
     "execution_count": 22,
     "metadata": {},
     "output_type": "execute_result"
    }
   ],
   "source": []
  }
 ],
 "metadata": {
  "kernelspec": {
   "display_name": "Python 3 (ipykernel)",
   "language": "python",
   "name": "python3"
  },
  "language_info": {
   "codemirror_mode": {
    "name": "ipython",
    "version": 3
   },
   "file_extension": ".py",
   "mimetype": "text/x-python",
   "name": "python",
   "nbconvert_exporter": "python",
   "pygments_lexer": "ipython3",
   "version": "3.9.13"
  }
 },
 "nbformat": 4,
 "nbformat_minor": 5
}
