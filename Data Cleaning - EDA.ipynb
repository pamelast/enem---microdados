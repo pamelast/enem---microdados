{
 "cells": [
  {
   "cell_type": "code",
   "execution_count": 1,
   "id": "a115e8ad",
   "metadata": {},
   "outputs": [],
   "source": [
    "import pandas as pd \n",
    "pd.set_option('display.max_columns', None)\n",
    "from dask import dataframe as dd\n",
    "\n",
    "import numpy as np\n",
    "\n",
    "import seaborn as sns\n",
    "import matplotlib.pyplot as plt"
   ]
  },
  {
   "cell_type": "markdown",
   "id": "eab71eaa",
   "metadata": {},
   "source": [
    "Carregar arquivo com os microdados"
   ]
  },
  {
   "cell_type": "code",
   "execution_count": 2,
   "id": "d0615aeb",
   "metadata": {},
   "outputs": [],
   "source": [
    "df = pd.read_parquet('MICRODADOS_ENEM_2021.parquet')"
   ]
  },
  {
   "cell_type": "markdown",
   "id": "4975f0f9",
   "metadata": {},
   "source": [
    "Substituir o dicionário"
   ]
  },
  {
   "cell_type": "code",
   "execution_count": 14,
   "id": "e0ac3dbe",
   "metadata": {},
   "outputs": [],
   "source": [
    "# Criação do dicionário de substituição\n",
    "substitutions = {0: \"Não Declarado\", \n",
    "                 1: \"Branca\", \n",
    "                 2: \"Preta\", \n",
    "                 3: \"Parda\", \n",
    "                 4: \"Amarela\", \n",
    "                 5: \"Indígena\", \n",
    "                 6: \"Sem Informação\"}\n",
    "\n",
    "# Substituição dos valores da coluna \"TP_COR_RACA\" pelos valores do dicionário\n",
    "df['TP_COR_RACA'] = df['TP_COR_RACA'].replace(substitutions)"
   ]
  },
  {
   "cell_type": "markdown",
   "id": "12de3c00",
   "metadata": {},
   "source": [
    "Dados de PIB - IBGE"
   ]
  },
  {
   "cell_type": "code",
   "execution_count": 5,
   "id": "984c289d",
   "metadata": {},
   "outputs": [],
   "source": [
    "pib = pd.read_excel(r'C:\\Users\\pamst\\OneDrive\\Documents\\Projects\\enem - microdados\\microdados_enem_2021\\pibmunicipal_ipeadata.xls',\n",
    "                   usecols = ['Codigo', '2019'])\n",
    "pib.columns = ['CO_MUNICIPIO_PROVA', 'PIB_2019']"
   ]
  },
  {
   "cell_type": "code",
   "execution_count": 6,
   "id": "601d939d",
   "metadata": {},
   "outputs": [
    {
     "data": {
      "text/plain": [
       "(32, 5596)"
      ]
     },
     "execution_count": 6,
     "metadata": {},
     "output_type": "execute_result"
    }
   ],
   "source": [
    "pib[pib['PIB_2019'] != pib['PIB_2019']].shape[0], pib.shape[0]"
   ]
  },
  {
   "cell_type": "code",
   "execution_count": 7,
   "id": "f8bbf8eb",
   "metadata": {},
   "outputs": [],
   "source": [
    "df = df.merge(pib, on = 'CO_MUNICIPIO_PROVA', how = 'left')"
   ]
  },
  {
   "cell_type": "markdown",
   "id": "2e56a4ee",
   "metadata": {},
   "source": [
    "Análise exploratória inicial"
   ]
  },
  {
   "cell_type": "code",
   "execution_count": 13,
   "id": "bcc17e3c",
   "metadata": {},
   "outputs": [
    {
     "data": {
      "text/plain": [
       "Index(['NU_ANO', 'TP_FAIXA_ETARIA', 'TP_SEXO', 'TP_ESTADO_CIVIL',\n",
       "       'TP_COR_RACA', 'TP_NACIONALIDADE', 'TP_ST_CONCLUSAO', 'TP_ANO_CONCLUIU',\n",
       "       'TP_ESCOLA', 'TP_ENSINO', 'IN_TREINEIRO', 'CO_MUNICIPIO_ESC',\n",
       "       'NO_MUNICIPIO_ESC', 'CO_UF_ESC', 'SG_UF_ESC', 'TP_DEPENDENCIA_ADM_ESC',\n",
       "       'TP_LOCALIZACAO_ESC', 'TP_SIT_FUNC_ESC', 'CO_MUNICIPIO_PROVA',\n",
       "       'NO_MUNICIPIO_PROVA', 'CO_UF_PROVA', 'SG_UF_PROVA', 'TP_PRESENCA_CN',\n",
       "       'TP_PRESENCA_CH', 'TP_PRESENCA_LC', 'TP_PRESENCA_MT', 'CO_PROVA_CN',\n",
       "       'CO_PROVA_CH', 'CO_PROVA_LC', 'CO_PROVA_MT', 'NU_NOTA_CN', 'NU_NOTA_CH',\n",
       "       'NU_NOTA_LC', 'NU_NOTA_MT', 'TP_STATUS_REDACAO', 'NU_NOTA_COMP1',\n",
       "       'NU_NOTA_COMP2', 'NU_NOTA_COMP3', 'NU_NOTA_COMP4', 'NU_NOTA_COMP5',\n",
       "       'NU_NOTA_REDACAO', 'PIB_2019'],\n",
       "      dtype='object')"
      ]
     },
     "execution_count": 13,
     "metadata": {},
     "output_type": "execute_result"
    }
   ],
   "source": [
    "df.columns"
   ]
  },
  {
   "cell_type": "code",
   "execution_count": 38,
   "id": "0d0b2f9b",
   "metadata": {},
   "outputs": [
    {
     "data": {
      "text/html": [
       "<div>\n",
       "<style scoped>\n",
       "    .dataframe tbody tr th:only-of-type {\n",
       "        vertical-align: middle;\n",
       "    }\n",
       "\n",
       "    .dataframe tbody tr th {\n",
       "        vertical-align: top;\n",
       "    }\n",
       "\n",
       "    .dataframe thead th {\n",
       "        text-align: right;\n",
       "    }\n",
       "</style>\n",
       "<table border=\"1\" class=\"dataframe\">\n",
       "  <thead>\n",
       "    <tr style=\"text-align: right;\">\n",
       "      <th></th>\n",
       "      <th>NU_NOTA_CN</th>\n",
       "      <th>NU_NOTA_CH</th>\n",
       "      <th>NU_NOTA_LC</th>\n",
       "      <th>NU_NOTA_MT</th>\n",
       "      <th>NU_NOTA_REDACAO</th>\n",
       "    </tr>\n",
       "  </thead>\n",
       "  <tbody>\n",
       "    <tr>\n",
       "      <th>count</th>\n",
       "      <td>2245844.00</td>\n",
       "      <td>2378379.00</td>\n",
       "      <td>2378379.00</td>\n",
       "      <td>2245844.00</td>\n",
       "      <td>2378379.00</td>\n",
       "    </tr>\n",
       "    <tr>\n",
       "      <th>mean</th>\n",
       "      <td>491.79</td>\n",
       "      <td>519.94</td>\n",
       "      <td>502.56</td>\n",
       "      <td>535.08</td>\n",
       "      <td>613.50</td>\n",
       "    </tr>\n",
       "    <tr>\n",
       "      <th>std</th>\n",
       "      <td>80.57</td>\n",
       "      <td>95.79</td>\n",
       "      <td>79.16</td>\n",
       "      <td>110.63</td>\n",
       "      <td>190.71</td>\n",
       "    </tr>\n",
       "    <tr>\n",
       "      <th>min</th>\n",
       "      <td>0.00</td>\n",
       "      <td>0.00</td>\n",
       "      <td>0.00</td>\n",
       "      <td>0.00</td>\n",
       "      <td>0.00</td>\n",
       "    </tr>\n",
       "    <tr>\n",
       "      <th>25%</th>\n",
       "      <td>431.00</td>\n",
       "      <td>445.40</td>\n",
       "      <td>447.60</td>\n",
       "      <td>444.70</td>\n",
       "      <td>520.00</td>\n",
       "    </tr>\n",
       "    <tr>\n",
       "      <th>50%</th>\n",
       "      <td>482.00</td>\n",
       "      <td>521.90</td>\n",
       "      <td>505.90</td>\n",
       "      <td>515.40</td>\n",
       "      <td>600.00</td>\n",
       "    </tr>\n",
       "    <tr>\n",
       "      <th>75%</th>\n",
       "      <td>545.80</td>\n",
       "      <td>589.30</td>\n",
       "      <td>558.80</td>\n",
       "      <td>613.90</td>\n",
       "      <td>740.00</td>\n",
       "    </tr>\n",
       "    <tr>\n",
       "      <th>max</th>\n",
       "      <td>867.10</td>\n",
       "      <td>846.90</td>\n",
       "      <td>826.10</td>\n",
       "      <td>953.10</td>\n",
       "      <td>1000.00</td>\n",
       "    </tr>\n",
       "  </tbody>\n",
       "</table>\n",
       "</div>"
      ],
      "text/plain": [
       "       NU_NOTA_CN  NU_NOTA_CH  NU_NOTA_LC  NU_NOTA_MT  NU_NOTA_REDACAO\n",
       "count  2245844.00  2378379.00  2378379.00  2245844.00       2378379.00\n",
       "mean       491.79      519.94      502.56      535.08           613.50\n",
       "std         80.57       95.79       79.16      110.63           190.71\n",
       "min          0.00        0.00        0.00        0.00             0.00\n",
       "25%        431.00      445.40      447.60      444.70           520.00\n",
       "50%        482.00      521.90      505.90      515.40           600.00\n",
       "75%        545.80      589.30      558.80      613.90           740.00\n",
       "max        867.10      846.90      826.10      953.10          1000.00"
      ]
     },
     "execution_count": 38,
     "metadata": {},
     "output_type": "execute_result"
    }
   ],
   "source": [
    "notas = ['NU_NOTA_CN', 'NU_NOTA_CH', 'NU_NOTA_LC', 'NU_NOTA_MT', 'NU_NOTA_REDACAO']\n",
    "\n",
    "df[notas].describe().round(2)"
   ]
  },
  {
   "cell_type": "markdown",
   "id": "f990a3ee",
   "metadata": {},
   "source": [
    "Análise exploratória"
   ]
  },
  {
   "cell_type": "code",
   "execution_count": 16,
   "id": "9677cc4b",
   "metadata": {},
   "outputs": [
    {
     "data": {
      "image/png": "[encoded data removed]",
      "text/plain": [
       "<Figure size 640x480 with 1 Axes>"
      ]
     },
     "metadata": {},
     "output_type": "display_data"
    }
   ],
   "source": [
    "sns.set_style(\"darkgrid\")\n",
    "\n",
    "p = sns.boxplot(data = df, x = 'TP_COR_RACA', y = 'NU_NOTA_REDACAO')\n",
    "plt.xticks(rotation=45)\n",
    "plt.show()"
   ]
  },
  {
   "cell_type": "code",
   "execution_count": 17,
   "id": "4998e0de",
   "metadata": {},
   "outputs": [
    {
     "name": "stdout",
     "output_type": "stream",
     "text": [
      "Parda             0.429949\n",
      "Branca            0.401865\n",
      "Preta             0.121334\n",
      "Não Declarado     0.020989\n",
      "Amarela           0.020205\n",
      "Indígena          0.005657\n",
      "Sem Informação    0.000001\n",
      "Name: TP_COR_RACA, dtype: float64\n"
     ]
    }
   ],
   "source": [
    "counts = df['TP_COR_RACA'].value_counts()\n",
    "percentages = counts.apply(lambda x: x / len(df))\n",
    "print(percentages)"
   ]
  },
  {
   "cell_type": "code",
   "execution_count": 18,
   "id": "8521c0e3",
   "metadata": {},
   "outputs": [
    {
     "data": {
      "image/png": "[encoded data removed]",
      "text/plain": [
       "<Figure size 640x480 with 1 Axes>"
      ]
     },
     "metadata": {},
     "output_type": "display_data"
    }
   ],
   "source": [
    "p = sns.boxplot(data = df, x = 'TP_SEXO', y = 'NU_NOTA_REDACAO')\n",
    "plt.show()"
   ]
  },
  {
   "cell_type": "code",
   "execution_count": 19,
   "id": "e3600176",
   "metadata": {},
   "outputs": [
    {
     "name": "stdout",
     "output_type": "stream",
     "text": [
      "F    0.616705\n",
      "M    0.383295\n",
      "Name: TP_SEXO, dtype: float64\n"
     ]
    }
   ],
   "source": [
    "counts = df['TP_SEXO'].value_counts()\n",
    "percentages = counts.apply(lambda x: x / len(df))\n",
    "print(percentages)"
   ]
  }
 ],
 "metadata": {
  "kernelspec": {
   "display_name": "Python 3 (ipykernel)",
   "language": "python",
   "name": "python3"
  },
  "language_info": {
   "codemirror_mode": {
    "name": "ipython",
    "version": 3
   },
   "file_extension": ".py",
   "mimetype": "text/x-python",
   "name": "python",
   "nbconvert_exporter": "python",
   "pygments_lexer": "ipython3",
   "version": "3.9.13"
  }
 },
 "nbformat": 4,
 "nbformat_minor": 5
}
